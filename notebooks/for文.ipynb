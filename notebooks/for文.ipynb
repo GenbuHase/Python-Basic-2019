{
  "nbformat": 4,
  "nbformat_minor": 0,
  "metadata": {
    "colab": {
      "name": "for文.ipynb",
      "provenance": [],
      "collapsed_sections": []
    },
    "kernelspec": {
      "name": "python3",
      "display_name": "Python 3"
    }
  },
  "cells": [
    {
      "cell_type": "code",
      "metadata": {
        "id": "qVlA1bjchNAW",
        "colab_type": "code",
        "colab": {
          "base_uri": "https://localhost:8080/",
          "height": 204
        },
        "outputId": "87afc72f-a81e-4801-997d-769c8c30796c"
      },
      "source": [
        "# 練習1\n",
        "for i in range(11): print(i)\n"
      ],
      "execution_count": 19,
      "outputs": [
        {
          "output_type": "stream",
          "text": [
            "0\n",
            "1\n",
            "2\n",
            "3\n",
            "4\n",
            "5\n",
            "6\n",
            "7\n",
            "8\n",
            "9\n",
            "10\n"
          ],
          "name": "stdout"
        }
      ]
    },
    {
      "cell_type": "code",
      "metadata": {
        "id": "Odn47We9kSz7",
        "colab_type": "code",
        "colab": {
          "base_uri": "https://localhost:8080/",
          "height": 119
        },
        "outputId": "9fa0687b-5e6c-4894-c9cd-584d5f747264"
      },
      "source": [
        "# 練習2\n",
        "for i in range(5, 11): print(i)\n"
      ],
      "execution_count": 20,
      "outputs": [
        {
          "output_type": "stream",
          "text": [
            "5\n",
            "6\n",
            "7\n",
            "8\n",
            "9\n",
            "10\n"
          ],
          "name": "stdout"
        }
      ]
    },
    {
      "cell_type": "code",
      "metadata": {
        "id": "GTU0K43LkcvY",
        "colab_type": "code",
        "colab": {
          "base_uri": "https://localhost:8080/",
          "height": 102
        },
        "outputId": "25fb75f5-599a-4c93-d026-77ecf5344565"
      },
      "source": [
        "# 練習3\n",
        "for i in range(1, 11, 2): print(i)\n"
      ],
      "execution_count": 21,
      "outputs": [
        {
          "output_type": "stream",
          "text": [
            "1\n",
            "3\n",
            "5\n",
            "7\n",
            "9\n"
          ],
          "name": "stdout"
        }
      ]
    },
    {
      "cell_type": "code",
      "metadata": {
        "id": "Csl83cWrkn1J",
        "colab_type": "code",
        "colab": {
          "base_uri": "https://localhost:8080/",
          "height": 102
        },
        "outputId": "e22d8271-2d95-4b14-8749-5afc34e21d44"
      },
      "source": [
        "# 練習4\n",
        "for i in range(1, 11):\n",
        "  if (i % 2): print(i)\n"
      ],
      "execution_count": 22,
      "outputs": [
        {
          "output_type": "stream",
          "text": [
            "1\n",
            "3\n",
            "5\n",
            "7\n",
            "9\n"
          ],
          "name": "stdout"
        }
      ]
    },
    {
      "cell_type": "code",
      "metadata": {
        "id": "M74uQz4tlGJY",
        "colab_type": "code",
        "colab": {
          "base_uri": "https://localhost:8080/",
          "height": 119
        },
        "outputId": "a0b6f353-8ac1-4536-95af-4d3db949f6ae"
      },
      "source": [
        "# 練習5\n",
        "for i in range(1, 21):\n",
        "  if (not i % 3): print(i)\n"
      ],
      "execution_count": 23,
      "outputs": [
        {
          "output_type": "stream",
          "text": [
            "3\n",
            "6\n",
            "9\n",
            "12\n",
            "15\n",
            "18\n"
          ],
          "name": "stdout"
        }
      ]
    },
    {
      "cell_type": "code",
      "metadata": {
        "id": "tAs8Z69ZmQrh",
        "colab_type": "code",
        "colab": {
          "base_uri": "https://localhost:8080/",
          "height": 170
        },
        "outputId": "0a22765c-e271-4d4b-cb4d-c13163273c18"
      },
      "source": [
        "# 練習6\n",
        "for i in range(1, 21):\n",
        "  if (not i % 3):\n",
        "    print(i)\n",
        "    if (not i % 2): print(\"6の倍数！\")\n"
      ],
      "execution_count": 24,
      "outputs": [
        {
          "output_type": "stream",
          "text": [
            "3\n",
            "6\n",
            "6の倍数！\n",
            "9\n",
            "12\n",
            "6の倍数！\n",
            "15\n",
            "18\n",
            "6の倍数！\n"
          ],
          "name": "stdout"
        }
      ]
    }
  ]
}