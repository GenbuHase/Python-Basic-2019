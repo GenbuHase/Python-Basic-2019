{
  "nbformat": 4,
  "nbformat_minor": 0,
  "metadata": {
    "colab": {
      "name": "リスト.ipynb",
      "provenance": [],
      "collapsed_sections": []
    },
    "kernelspec": {
      "name": "python3",
      "display_name": "Python 3"
    }
  },
  "cells": [
    {
      "cell_type": "code",
      "metadata": {
        "id": "820mImTk9UK-",
        "colab_type": "code",
        "outputId": "3d0b7737-9aa6-499e-f06b-7fb4c6d2f0e3",
        "colab": {
          "base_uri": "https://localhost:8080/",
          "height": 68
        }
      },
      "source": [
        "# 練習1\n",
        "me = [\"Genbu\", \"Hase\", 3, 3, \"Unknown\"];\n",
        "\n",
        "print(\"名前: {} {}\".format(me[0], me[1]));\n",
        "print(\"生年月日: {}月{}日\".format(me[2], me[3]));\n",
        "print(\"性別: {}\".format(me[4]));"
      ],
      "execution_count": 0,
      "outputs": [
        {
          "output_type": "stream",
          "text": [
            "名前: Genbu Hase\n",
            "生年月日: 3月3日\n",
            "性別: Unknown\n"
          ],
          "name": "stdout"
        }
      ]
    },
    {
      "cell_type": "code",
      "metadata": {
        "id": "73k6-ReVCGdz",
        "colab_type": "code",
        "outputId": "c5c1b39c-a300-4452-e97a-25327a40f075",
        "colab": {
          "base_uri": "https://localhost:8080/",
          "height": 85
        }
      },
      "source": [
        "# 練習2\n",
        "me = [ \"Genbu\", \"Hase\", 3, 3, \"Unknown\", [\"https://itabashi.0j0.jp/@ProgrammerGenboo\", \"https://github.com/GenbuHase\"] ];\n",
        "\n",
        "print(\"名前: {} {}\".format(me[0], me[1]));\n",
        "print(\"生年月日: {}月{}日\".format(me[2], me[3]));\n",
        "print(\"性別: {}\".format(me[4]));\n",
        "print(\"リンク: {}\".format(\", \".join(me[5])));"
      ],
      "execution_count": 0,
      "outputs": [
        {
          "output_type": "stream",
          "text": [
            "名前: Genbu Hase\n",
            "生年月日: 3月3日\n",
            "性別: Unknown\n",
            "リンク: https://itabashi.0j0.jp/@ProgrammerGenboo, https://github.com/GenbuHase\n"
          ],
          "name": "stdout"
        }
      ]
    }
  ]
}