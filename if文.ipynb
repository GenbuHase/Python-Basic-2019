{
  "nbformat": 4,
  "nbformat_minor": 0,
  "metadata": {
    "colab": {
      "name": "if文.ipynb",
      "provenance": [],
      "collapsed_sections": []
    },
    "kernelspec": {
      "name": "python3",
      "display_name": "Python 3"
    }
  },
  "cells": [
    {
      "cell_type": "code",
      "metadata": {
        "id": "5tUazFgWFpXo",
        "colab_type": "code",
        "outputId": "3e29d078-7159-4579-b226-fc074fdc0271",
        "colab": {
          "base_uri": "https://localhost:8080/",
          "height": 34
        }
      },
      "source": [
        "# 練習1\n",
        "x = 80;\n",
        "\n",
        "if (x >= 60):\n",
        "  print(\"合格\");\n",
        "else:\n",
        "  print(\"不合格\");"
      ],
      "execution_count": 0,
      "outputs": [
        {
          "output_type": "stream",
          "text": [
            "合格\n"
          ],
          "name": "stdout"
        }
      ]
    }
  ]
}