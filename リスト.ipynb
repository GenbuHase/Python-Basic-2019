{
  "nbformat": 4,
  "nbformat_minor": 0,
  "metadata": {
    "colab": {
      "name": "リスト.ipynb",
      "provenance": [],
      "collapsed_sections": [],
      "include_colab_link": true
    },
    "kernelspec": {
      "name": "python3",
      "display_name": "Python 3"
    }
  },
  "cells": [
    {
      "cell_type": "markdown",
      "metadata": {
        "id": "view-in-github",
        "colab_type": "text"
      },
      "source": [
        "<a href=\"https://colab.research.google.com/github/GenbuHase/Python-Basic-2019/blob/master/%E3%83%AA%E3%82%B9%E3%83%88.ipynb\" target=\"_parent\"><img src=\"https://colab.research.google.com/assets/colab-badge.svg\" alt=\"Open In Colab\"/></a>"
      ]
    },
    {
      "cell_type": "code",
      "metadata": {
        "id": "820mImTk9UK-",
        "colab_type": "code",
        "outputId": "3d0b7737-9aa6-499e-f06b-7fb4c6d2f0e3",
        "colab": {
          "base_uri": "https://localhost:8080/",
          "height": 68
        }
      },
      "source": [
        "# 練習1\n",
        "me = [\"Genbu\", \"Hase\", 3, 3, \"Unknown\"];\n",
        "\n",
        "print(\"名前: {} {}\".format(me[0], me[1]));\n",
        "print(\"生年月日: {}月{}日\".format(me[2], me[3]));\n",
        "print(\"性別: {}\".format(me[4]));"
      ],
      "execution_count": 11,
      "outputs": [
        {
          "output_type": "stream",
          "text": [
            "名前: Genbu Hase\n",
            "生年月日: 3月3日\n",
            "性別: Unknown\n"
          ],
          "name": "stdout"
        }
      ]
    },
    {
      "cell_type": "code",
      "metadata": {
        "id": "73k6-ReVCGdz",
        "colab_type": "code",
        "colab": {
          "base_uri": "https://localhost:8080/",
          "height": 85
        },
        "outputId": "c5c1b39c-a300-4452-e97a-25327a40f075"
      },
      "source": [
        "# 練習2\n",
        "me = [ \"Genbu\", \"Hase\", 3, 3, \"Unknown\", [\"https://itabashi.0j0.jp/@ProgrammerGenboo\", \"https://github.com/GenbuHase\"] ];\n",
        "\n",
        "print(\"名前: {} {}\".format(me[0], me[1]));\n",
        "print(\"生年月日: {}月{}日\".format(me[2], me[3]));\n",
        "print(\"性別: {}\".format(me[4]));\n",
        "print(\"リンク: {}\".format(\", \".join(me[5])));"
      ],
      "execution_count": 12,
      "outputs": [
        {
          "output_type": "stream",
          "text": [
            "名前: Genbu Hase\n",
            "生年月日: 3月3日\n",
            "性別: Unknown\n",
            "リンク: https://itabashi.0j0.jp/@ProgrammerGenboo, https://github.com/GenbuHase\n"
          ],
          "name": "stdout"
        }
      ]
    }
  ]
}