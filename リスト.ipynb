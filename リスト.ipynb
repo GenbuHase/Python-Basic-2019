{
  "nbformat": 4,
  "nbformat_minor": 0,
  "metadata": {
    "colab": {
      "name": "リスト.ipynb",
      "provenance": [],
      "collapsed_sections": [],
      "include_colab_link": true
    },
    "kernelspec": {
      "name": "python3",
      "display_name": "Python 3"
    }
  },
  "cells": [
    {
      "cell_type": "markdown",
      "metadata": {
        "id": "view-in-github",
        "colab_type": "text"
      },
      "source": [
        "<a href=\"https://colab.research.google.com/github/GenbuHase/Python-Basic-2019/blob/master/%E3%83%AA%E3%82%B9%E3%83%88.ipynb\" target=\"_parent\"><img src=\"https://colab.research.google.com/assets/colab-badge.svg\" alt=\"Open In Colab\"/></a>"
      ]
    },
    {
      "cell_type": "code",
      "metadata": {
        "id": "820mImTk9UK-",
        "colab_type": "code",
        "outputId": "c85a4153-67bc-4991-bd35-03fd34ef12d1",
        "colab": {
          "base_uri": "https://localhost:8080/",
          "height": 68
        }
      },
      "source": [
        "me = [\"Genbu\", \"Hase\", 3, 3, \"Unknown\"];\n",
        "\n",
        "print(\"名前: {} {}\".format(me[0], me[1]));\n",
        "print(\"生年月日: {}月{}日\".format(me[2], me[3]));\n",
        "print(\"性別: {}\".format(me[4]));"
      ],
      "execution_count": 0,
      "outputs": [
        {
          "output_type": "stream",
          "text": [
            "名前: Genbu Hase\n",
            "生年月日: 3月3日\n",
            "性別: Unknown\n"
          ],
          "name": "stdout"
        }
      ]
    }
  ]
}