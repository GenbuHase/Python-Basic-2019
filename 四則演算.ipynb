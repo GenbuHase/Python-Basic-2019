{
  "nbformat": 4,
  "nbformat_minor": 0,
  "metadata": {
    "colab": {
      "name": "四則演算.ipynb",
      "version": "0.3.2",
      "provenance": [],
      "include_colab_link": true
    },
    "kernelspec": {
      "name": "python3",
      "display_name": "Python 3"
    }
  },
  "cells": [
    {
      "cell_type": "markdown",
      "metadata": {
        "id": "view-in-github",
        "colab_type": "text"
      },
      "source": [
        "<a href=\"https://colab.research.google.com/github/GenbuHase/Python-Basic-2019/blob/master/%E5%9B%9B%E5%89%87%E6%BC%94%E7%AE%97.ipynb\" target=\"_parent\"><img src=\"https://colab.research.google.com/assets/colab-badge.svg\" alt=\"Open In Colab\"/></a>"
      ]
    },
    {
      "cell_type": "code",
      "metadata": {
        "id": "2UFr5PoE7zQ0",
        "colab_type": "code",
        "outputId": "52e35331-cd69-495d-a557-c217f686ccf4",
        "colab": {
          "base_uri": "https://localhost:8080/",
          "height": 102
        }
      },
      "source": [
        "print(1 + 2);\n",
        "print(10 * 2);\n",
        "print(10 / 2);\n",
        "print(11 % 2);\n",
        "print(2**10);"
      ],
      "execution_count": 0,
      "outputs": [
        {
          "output_type": "stream",
          "text": [
            "3\n",
            "20\n",
            "5.0\n",
            "1\n",
            "1024\n"
          ],
          "name": "stdout"
        }
      ]
    }
  ]
}