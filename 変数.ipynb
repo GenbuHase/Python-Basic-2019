{
  "nbformat": 4,
  "nbformat_minor": 0,
  "metadata": {
    "colab": {
      "name": "変数.ipynb",
      "provenance": [],
      "collapsed_sections": []
    },
    "kernelspec": {
      "name": "python3",
      "display_name": "Python 3"
    }
  },
  "cells": [
    {
      "cell_type": "code",
      "metadata": {
        "id": "Q72CIl8tDc5K",
        "colab_type": "code",
        "outputId": "4ba5d730-03dd-49a9-93b3-274110734fc8",
        "colab": {
          "base_uri": "https://localhost:8080/",
          "height": 51
        }
      },
      "source": [
        "total = 100 + 200 + 300;\n",
        "name2 = \"Genbu\";\n",
        "name1 = \"Hase\";\n",
        "\n",
        "print(type(name1));\n",
        "print(type(total));"
      ],
      "execution_count": 0,
      "outputs": [
        {
          "output_type": "stream",
          "text": [
            "<class 'str'>\n",
            "<class 'int'>\n"
          ],
          "name": "stdout"
        }
      ]
    }
  ]
}